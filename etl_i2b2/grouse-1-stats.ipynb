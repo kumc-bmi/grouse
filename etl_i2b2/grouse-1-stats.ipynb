{
 "cells": [
  {
   "cell_type": "markdown",
   "metadata": {},
   "source": [
    "## Prep: Database Connection"
   ]
  },
  {
   "cell_type": "code",
   "execution_count": 18,
   "metadata": {},
   "outputs": [
    {
     "data": {
      "text/plain": [
       "('SGROUSE.KUMC.EDU',)"
      ]
     },
     "execution_count": 18,
     "metadata": {},
     "output_type": "execute_result"
    }
   ],
   "source": [
    "from configparser import ConfigParser\n",
    "from sqlalchemy.engine.url import make_url\n",
    "\n",
    "import cx_ora_fix; cx_ora_fix.patch_version()  # noqa: E702\n",
    "\n",
    "def _sgrouse(cfg='luigi-gd.cfg'):\n",
    "    from os import environ\n",
    "    from pathlib import Path\n",
    "    from sqlalchemy import create_engine\n",
    "    cp = ConfigParser()\n",
    "    cp.read_file(Path(cfg).open(), str(cfg))\n",
    "    acct = make_url(cp.get('ETLAccount', 'account'))\n",
    "    # print(acct)\n",
    "    host, port = cp.get('ETLAccount', 'ssh_tunnel').split(':')\n",
    "    acct.host = host\n",
    "    acct.port = int(port)\n",
    "    acct.password = environ[cp.get('ETLAccount', 'passkey')]\n",
    "    return create_engine(acct)\n",
    "\n",
    "db = _sgrouse()\n",
    "db.execute('select * from global_name').fetchone()"
   ]
  },
  {
   "cell_type": "markdown",
   "metadata": {},
   "source": [
    "## Demographics"
   ]
  },
  {
   "cell_type": "code",
   "execution_count": 40,
   "metadata": {},
   "outputs": [
    {
     "data": {
      "text/html": [
       "<div>\n",
       "<style>\n",
       "    .dataframe thead tr:only-child th {\n",
       "        text-align: right;\n",
       "    }\n",
       "\n",
       "    .dataframe thead th {\n",
       "        text-align: left;\n",
       "    }\n",
       "\n",
       "    .dataframe tbody tr th {\n",
       "        vertical-align: top;\n",
       "    }\n",
       "</style>\n",
       "<table border=\"1\" class=\"dataframe\">\n",
       "  <thead>\n",
       "    <tr style=\"text-align: right;\">\n",
       "      <th></th>\n",
       "      <th>birth_dt</th>\n",
       "      <th>death_dt</th>\n",
       "      <th>sex_mf</th>\n",
       "    </tr>\n",
       "    <tr>\n",
       "      <th>patient_num</th>\n",
       "      <th></th>\n",
       "      <th></th>\n",
       "      <th></th>\n",
       "    </tr>\n",
       "  </thead>\n",
       "  <tbody>\n",
       "    <tr>\n",
       "      <th>198347</th>\n",
       "      <td>1963-05-06</td>\n",
       "      <td>NaT</td>\n",
       "      <td>M</td>\n",
       "    </tr>\n",
       "    <tr>\n",
       "      <th>198804</th>\n",
       "      <td>1941-07-11</td>\n",
       "      <td>NaT</td>\n",
       "      <td>F</td>\n",
       "    </tr>\n",
       "    <tr>\n",
       "      <th>2673306</th>\n",
       "      <td>1944-01-10</td>\n",
       "      <td>NaT</td>\n",
       "      <td>M</td>\n",
       "    </tr>\n",
       "    <tr>\n",
       "      <th>462609</th>\n",
       "      <td>1960-11-08</td>\n",
       "      <td>NaT</td>\n",
       "      <td>F</td>\n",
       "    </tr>\n",
       "    <tr>\n",
       "      <th>18777987</th>\n",
       "      <td>1942-11-05</td>\n",
       "      <td>NaT</td>\n",
       "      <td>F</td>\n",
       "    </tr>\n",
       "  </tbody>\n",
       "</table>\n",
       "</div>"
      ],
      "text/plain": [
       "              birth_dt death_dt sex_mf\n",
       "patient_num                           \n",
       "198347      1963-05-06      NaT      M\n",
       "198804      1941-07-11      NaT      F\n",
       "2673306     1944-01-10      NaT      M\n",
       "462609      1960-11-08      NaT      F\n",
       "18777987    1942-11-05      NaT      F"
      ]
     },
     "execution_count": 40,
     "metadata": {},
     "output_type": "execute_result"
    }
   ],
   "source": [
    "import pandas as pd\n",
    "\n",
    "demo = pd.read_sql('select * from grouse_cms_demo_11_16', db, index_col='patient_num')\n",
    "demo.head()"
   ]
  },
  {
   "cell_type": "code",
   "execution_count": 44,
   "metadata": {},
   "outputs": [
    {
     "data": {
      "text/plain": [
       "birth_dt    datetime64[ns]\n",
       "death_dt    datetime64[ns]\n",
       "sex               category\n",
       "dtype: object"
      ]
     },
     "execution_count": 44,
     "metadata": {},
     "output_type": "execute_result"
    }
   ],
   "source": [
    "demo['sex'] = demo.sex_mf.astype('category')\n",
    "demo.drop('sex_mf', axis=1, inplace=True)\n",
    "demo.dtypes"
   ]
  },
  {
   "cell_type": "code",
   "execution_count": 47,
   "metadata": {
    "scrolled": true
   },
   "outputs": [
    {
     "data": {
      "text/html": [
       "<div>\n",
       "<style>\n",
       "    .dataframe thead tr:only-child th {\n",
       "        text-align: right;\n",
       "    }\n",
       "\n",
       "    .dataframe thead th {\n",
       "        text-align: left;\n",
       "    }\n",
       "\n",
       "    .dataframe tbody tr th {\n",
       "        vertical-align: top;\n",
       "    }\n",
       "</style>\n",
       "<table border=\"1\" class=\"dataframe\">\n",
       "  <thead>\n",
       "    <tr style=\"text-align: right;\">\n",
       "      <th></th>\n",
       "      <th>birth_dt</th>\n",
       "      <th>death_dt</th>\n",
       "      <th>sex</th>\n",
       "      <th>age</th>\n",
       "    </tr>\n",
       "    <tr>\n",
       "      <th>patient_num</th>\n",
       "      <th></th>\n",
       "      <th></th>\n",
       "      <th></th>\n",
       "      <th></th>\n",
       "    </tr>\n",
       "  </thead>\n",
       "  <tbody>\n",
       "    <tr>\n",
       "      <th>198347</th>\n",
       "      <td>1963-05-06</td>\n",
       "      <td>NaT</td>\n",
       "      <td>M</td>\n",
       "      <td>55.0</td>\n",
       "    </tr>\n",
       "    <tr>\n",
       "      <th>198804</th>\n",
       "      <td>1941-07-11</td>\n",
       "      <td>NaT</td>\n",
       "      <td>F</td>\n",
       "      <td>77.0</td>\n",
       "    </tr>\n",
       "    <tr>\n",
       "      <th>2673306</th>\n",
       "      <td>1944-01-10</td>\n",
       "      <td>NaT</td>\n",
       "      <td>M</td>\n",
       "      <td>74.0</td>\n",
       "    </tr>\n",
       "    <tr>\n",
       "      <th>462609</th>\n",
       "      <td>1960-11-08</td>\n",
       "      <td>NaT</td>\n",
       "      <td>F</td>\n",
       "      <td>58.0</td>\n",
       "    </tr>\n",
       "    <tr>\n",
       "      <th>18777987</th>\n",
       "      <td>1942-11-05</td>\n",
       "      <td>NaT</td>\n",
       "      <td>F</td>\n",
       "      <td>76.0</td>\n",
       "    </tr>\n",
       "  </tbody>\n",
       "</table>\n",
       "</div>"
      ],
      "text/plain": [
       "              birth_dt death_dt sex   age\n",
       "patient_num                              \n",
       "198347      1963-05-06      NaT   M  55.0\n",
       "198804      1941-07-11      NaT   F  77.0\n",
       "2673306     1944-01-10      NaT   M  74.0\n",
       "462609      1960-11-08      NaT   F  58.0\n",
       "18777987    1942-11-05      NaT   F  76.0"
      ]
     },
     "execution_count": 47,
     "metadata": {},
     "output_type": "execute_result"
    }
   ],
   "source": [
    "def _now():\n",
    "    import datetime\n",
    "    return pd.Timestamp(datetime.datetime.now())\n",
    "\n",
    "demo['age'] = (demo.death_dt.fillna(_now()) - demo.birth_dt).astype('timedelta64[Y]')\n",
    "demo.head()"
   ]
  },
  {
   "cell_type": "code",
   "execution_count": 48,
   "metadata": {},
   "outputs": [
    {
     "data": {
      "text/html": [
       "<div>\n",
       "<style>\n",
       "    .dataframe thead tr:only-child th {\n",
       "        text-align: right;\n",
       "    }\n",
       "\n",
       "    .dataframe thead th {\n",
       "        text-align: left;\n",
       "    }\n",
       "\n",
       "    .dataframe tbody tr th {\n",
       "        vertical-align: top;\n",
       "    }\n",
       "</style>\n",
       "<table border=\"1\" class=\"dataframe\">\n",
       "  <thead>\n",
       "    <tr style=\"text-align: right;\">\n",
       "      <th></th>\n",
       "      <th>birth_dt</th>\n",
       "      <th>death_dt</th>\n",
       "      <th>sex</th>\n",
       "      <th>age</th>\n",
       "    </tr>\n",
       "    <tr>\n",
       "      <th>patient_num</th>\n",
       "      <th></th>\n",
       "      <th></th>\n",
       "      <th></th>\n",
       "      <th></th>\n",
       "    </tr>\n",
       "  </thead>\n",
       "  <tbody>\n",
       "    <tr>\n",
       "      <th>4152200</th>\n",
       "      <td>1930-08-31</td>\n",
       "      <td>2012-07-03</td>\n",
       "      <td>F</td>\n",
       "      <td>81.0</td>\n",
       "    </tr>\n",
       "    <tr>\n",
       "      <th>19541280</th>\n",
       "      <td>1948-01-05</td>\n",
       "      <td>2014-09-12</td>\n",
       "      <td>M</td>\n",
       "      <td>66.0</td>\n",
       "    </tr>\n",
       "    <tr>\n",
       "      <th>16594864</th>\n",
       "      <td>1932-10-12</td>\n",
       "      <td>2016-09-28</td>\n",
       "      <td>F</td>\n",
       "      <td>83.0</td>\n",
       "    </tr>\n",
       "    <tr>\n",
       "      <th>3801773</th>\n",
       "      <td>1925-01-07</td>\n",
       "      <td>2015-11-29</td>\n",
       "      <td>M</td>\n",
       "      <td>90.0</td>\n",
       "    </tr>\n",
       "    <tr>\n",
       "      <th>15081479</th>\n",
       "      <td>1941-11-18</td>\n",
       "      <td>2012-03-20</td>\n",
       "      <td>M</td>\n",
       "      <td>70.0</td>\n",
       "    </tr>\n",
       "  </tbody>\n",
       "</table>\n",
       "</div>"
      ],
      "text/plain": [
       "              birth_dt   death_dt sex   age\n",
       "patient_num                                \n",
       "4152200     1930-08-31 2012-07-03   F  81.0\n",
       "19541280    1948-01-05 2014-09-12   M  66.0\n",
       "16594864    1932-10-12 2016-09-28   F  83.0\n",
       "3801773     1925-01-07 2015-11-29   M  90.0\n",
       "15081479    1941-11-18 2012-03-20   M  70.0"
      ]
     },
     "execution_count": 48,
     "metadata": {},
     "output_type": "execute_result"
    }
   ],
   "source": [
    "demo[~demo.death_dt.isnull()].head()"
   ]
  },
  {
   "cell_type": "code",
   "execution_count": 51,
   "metadata": {},
   "outputs": [
    {
     "data": {
      "text/html": [
       "<div>\n",
       "<style>\n",
       "    .dataframe thead tr:only-child th {\n",
       "        text-align: right;\n",
       "    }\n",
       "\n",
       "    .dataframe thead th {\n",
       "        text-align: left;\n",
       "    }\n",
       "\n",
       "    .dataframe tbody tr th {\n",
       "        vertical-align: top;\n",
       "    }\n",
       "</style>\n",
       "<table border=\"1\" class=\"dataframe\">\n",
       "  <thead>\n",
       "    <tr style=\"text-align: right;\">\n",
       "      <th></th>\n",
       "      <th></th>\n",
       "      <th>scalar</th>\n",
       "      <th>source</th>\n",
       "    </tr>\n",
       "    <tr>\n",
       "      <th>patient_num</th>\n",
       "      <th>feature</th>\n",
       "      <th></th>\n",
       "      <th></th>\n",
       "    </tr>\n",
       "  </thead>\n",
       "  <tbody>\n",
       "    <tr>\n",
       "      <th>3309389.0</th>\n",
       "      <th>BENE_ENROLLMT_REF_YR</th>\n",
       "      <td>2012</td>\n",
       "      <td>CMS_DEID.MBSF_AB_SUMMARY</td>\n",
       "    </tr>\n",
       "    <tr>\n",
       "      <th>19464371.0</th>\n",
       "      <th>BENE_ENROLLMT_REF_YR</th>\n",
       "      <td>2012</td>\n",
       "      <td>CMS_DEID.MBSF_AB_SUMMARY</td>\n",
       "    </tr>\n",
       "    <tr>\n",
       "      <th>3305908.0</th>\n",
       "      <th>BENE_ENROLLMT_REF_YR</th>\n",
       "      <td>2012</td>\n",
       "      <td>CMS_DEID.MBSF_AB_SUMMARY</td>\n",
       "    </tr>\n",
       "    <tr>\n",
       "      <th>18626002.0</th>\n",
       "      <th>BENE_ENROLLMT_REF_YR</th>\n",
       "      <td>2012</td>\n",
       "      <td>CMS_DEID.MBSF_AB_SUMMARY</td>\n",
       "    </tr>\n",
       "    <tr>\n",
       "      <th>14853388.0</th>\n",
       "      <th>BENE_ENROLLMT_REF_YR</th>\n",
       "      <td>2012</td>\n",
       "      <td>CMS_DEID.MBSF_AB_SUMMARY</td>\n",
       "    </tr>\n",
       "  </tbody>\n",
       "</table>\n",
       "</div>"
      ],
      "text/plain": [
       "                                  scalar                    source\n",
       "patient_num feature                                               \n",
       "3309389.0   BENE_ENROLLMT_REF_YR    2012  CMS_DEID.MBSF_AB_SUMMARY\n",
       "19464371.0  BENE_ENROLLMT_REF_YR    2012  CMS_DEID.MBSF_AB_SUMMARY\n",
       "3305908.0   BENE_ENROLLMT_REF_YR    2012  CMS_DEID.MBSF_AB_SUMMARY\n",
       "18626002.0  BENE_ENROLLMT_REF_YR    2012  CMS_DEID.MBSF_AB_SUMMARY\n",
       "14853388.0  BENE_ENROLLMT_REF_YR    2012  CMS_DEID.MBSF_AB_SUMMARY"
      ]
     },
     "execution_count": 51,
     "metadata": {},
     "output_type": "execute_result"
    }
   ],
   "source": [
    "data = pd.read_sql('select * from grouse_sets', db)\n",
    "data.feature = data.feature.astype('category')\n",
    "data.source = data.source.astype('category')\n",
    "data = data.set_index(['patient_num', 'feature'])\n",
    "data.head()"
   ]
  },
  {
   "cell_type": "code",
   "execution_count": 62,
   "metadata": {},
   "outputs": [
    {
     "data": {
      "text/html": [
       "<div>\n",
       "<style>\n",
       "    .dataframe thead tr:only-child th {\n",
       "        text-align: right;\n",
       "    }\n",
       "\n",
       "    .dataframe thead th {\n",
       "        text-align: left;\n",
       "    }\n",
       "\n",
       "    .dataframe tbody tr th {\n",
       "        vertical-align: top;\n",
       "    }\n",
       "</style>\n",
       "<table border=\"1\" class=\"dataframe\">\n",
       "  <thead>\n",
       "    <tr style=\"text-align: right;\">\n",
       "      <th></th>\n",
       "      <th>patient_num</th>\n",
       "      <th>feature</th>\n",
       "      <th>scalar</th>\n",
       "    </tr>\n",
       "  </thead>\n",
       "  <tbody>\n",
       "    <tr>\n",
       "      <th>0</th>\n",
       "      <td>3309389</td>\n",
       "      <td>BENE_ENROLLMT_REF_YR</td>\n",
       "      <td>2012</td>\n",
       "    </tr>\n",
       "    <tr>\n",
       "      <th>1</th>\n",
       "      <td>19464371</td>\n",
       "      <td>BENE_ENROLLMT_REF_YR</td>\n",
       "      <td>2012</td>\n",
       "    </tr>\n",
       "    <tr>\n",
       "      <th>2</th>\n",
       "      <td>3305908</td>\n",
       "      <td>BENE_ENROLLMT_REF_YR</td>\n",
       "      <td>2012</td>\n",
       "    </tr>\n",
       "    <tr>\n",
       "      <th>3</th>\n",
       "      <td>18626002</td>\n",
       "      <td>BENE_ENROLLMT_REF_YR</td>\n",
       "      <td>2012</td>\n",
       "    </tr>\n",
       "    <tr>\n",
       "      <th>4</th>\n",
       "      <td>14853388</td>\n",
       "      <td>BENE_ENROLLMT_REF_YR</td>\n",
       "      <td>2012</td>\n",
       "    </tr>\n",
       "  </tbody>\n",
       "</table>\n",
       "</div>"
      ],
      "text/plain": [
       "   patient_num               feature  scalar\n",
       "0      3309389  BENE_ENROLLMT_REF_YR    2012\n",
       "1     19464371  BENE_ENROLLMT_REF_YR    2012\n",
       "2      3305908  BENE_ENROLLMT_REF_YR    2012\n",
       "3     18626002  BENE_ENROLLMT_REF_YR    2012\n",
       "4     14853388  BENE_ENROLLMT_REF_YR    2012"
      ]
     },
     "execution_count": 62,
     "metadata": {},
     "output_type": "execute_result"
    }
   ],
   "source": [
    "#data = data.reset_index()\n",
    "#data = data[~data.patient_num.isnull()]\n",
    "data.patient_num = data.patient_num.astype('int')\n",
    "data = data[['patient_num', 'feature', 'scalar']]\n",
    "data.head()"
   ]
  },
  {
   "cell_type": "code",
   "execution_count": 63,
   "metadata": {},
   "outputs": [
    {
     "data": {
      "text/plain": [
       "patient_num       int64\n",
       "feature        category\n",
       "scalar            int64\n",
       "dtype: object"
      ]
     },
     "execution_count": 63,
     "metadata": {},
     "output_type": "execute_result"
    }
   ],
   "source": [
    "data.dtypes"
   ]
  },
  {
   "cell_type": "markdown",
   "metadata": {},
   "source": [
    "## Age Distribution"
   ]
  },
  {
   "cell_type": "code",
   "execution_count": 49,
   "metadata": {},
   "outputs": [
    {
     "data": {
      "text/plain": [
       "count    2.476513e+07\n",
       "mean     4.965816e+01\n",
       "std      2.861240e+01\n",
       "min     -5.700000e+01\n",
       "25%      2.000000e+01\n",
       "50%      5.700000e+01\n",
       "75%      7.500000e+01\n",
       "max      1.010000e+02\n",
       "Name: age, dtype: float64"
      ]
     },
     "execution_count": 49,
     "metadata": {},
     "output_type": "execute_result"
    }
   ],
   "source": [
    "demo.age.describe()"
   ]
  },
  {
   "cell_type": "code",
   "execution_count": 65,
   "metadata": {
    "scrolled": true
   },
   "outputs": [
    {
     "data": {
      "image/png": "[encoded data removed]",
      "text/plain": [
       "<matplotlib.figure.Figure at 0x7fa0d7f6c518>"
      ]
     },
     "metadata": {},
     "output_type": "display_data"
    }
   ],
   "source": [
    "%matplotlib inline\n",
    "\n",
    "def age_plot(age,\n",
    "             bins=25, title='Age'):\n",
    "    plot = age[age >= 0].hist(bins=bins)\n",
    "    plot.set_title(title)\n",
    "    plot.set_xlabel('years')\n",
    "    plot.set_ylabel('Patients')\n",
    "    plot\n",
    "\n",
    "age_plot(demo.age);"
   ]
  },
  {
   "cell_type": "code",
   "execution_count": 72,
   "metadata": {},
   "outputs": [
    {
     "data": {
      "text/html": [
       "<div>\n",
       "<style>\n",
       "    .dataframe thead tr:only-child th {\n",
       "        text-align: right;\n",
       "    }\n",
       "\n",
       "    .dataframe thead th {\n",
       "        text-align: left;\n",
       "    }\n",
       "\n",
       "    .dataframe tbody tr th {\n",
       "        vertical-align: top;\n",
       "    }\n",
       "</style>\n",
       "<table border=\"1\" class=\"dataframe\">\n",
       "  <thead>\n",
       "    <tr style=\"text-align: right;\">\n",
       "      <th></th>\n",
       "      <th>patient_num</th>\n",
       "      <th>scalar</th>\n",
       "    </tr>\n",
       "    <tr>\n",
       "      <th>feature</th>\n",
       "      <th></th>\n",
       "      <th></th>\n",
       "    </tr>\n",
       "  </thead>\n",
       "  <tbody>\n",
       "    <tr>\n",
       "      <th>BENE_ENROLLMT_REF_YR</th>\n",
       "      <td>36750895</td>\n",
       "      <td>36750895</td>\n",
       "    </tr>\n",
       "    <tr>\n",
       "      <th>EXTRACT_DT</th>\n",
       "      <td>23865193</td>\n",
       "      <td>23865193</td>\n",
       "    </tr>\n",
       "  </tbody>\n",
       "</table>\n",
       "</div>"
      ],
      "text/plain": [
       "                      patient_num    scalar\n",
       "feature                                    \n",
       "BENE_ENROLLMT_REF_YR     36750895  36750895\n",
       "EXTRACT_DT               23865193  23865193"
      ]
     },
     "execution_count": 72,
     "metadata": {},
     "output_type": "execute_result"
    }
   ],
   "source": [
    "data.groupby('feature').count()"
   ]
  },
  {
   "cell_type": "code",
   "execution_count": 68,
   "metadata": {},
   "outputs": [
    {
     "data": {
      "image/png": "[encoded data removed]",
      "text/plain": [
       "<matplotlib.figure.Figure at 0x7fa0d7e74470>"
      ]
     },
     "metadata": {},
     "output_type": "display_data"
    }
   ],
   "source": [
    "medicare_yr = data[data.feature == 'BENE_ENROLLMT_REF_YR']\n",
    "\n",
    "age_plot(demo[demo.index.isin(medicare_yr.patient_num)].age)"
   ]
  },
  {
   "cell_type": "code",
   "execution_count": 77,
   "metadata": {},
   "outputs": [
    {
     "data": {
      "image/png": "[encoded data removed]",
      "text/plain": [
       "<matplotlib.figure.Figure at 0x7fa0d5458fd0>"
      ]
     },
     "metadata": {},
     "output_type": "display_data"
    }
   ],
   "source": [
    "medicaid_yr = data[data.feature == 'EXTRACT_DT          ']\n",
    "\n",
    "age_plot(demo[demo.index.isin(medicaid_yr.patient_num)].age)"
   ]
  }
 ],
 "metadata": {
  "kernelspec": {
   "display_name": "Python 3",
   "language": "python",
   "name": "python3"
  },
  "language_info": {
   "codemirror_mode": {
    "name": "ipython",
    "version": 3
   },
   "file_extension": ".py",
   "mimetype": "text/x-python",
   "name": "python",
   "nbconvert_exporter": "python",
   "pygments_lexer": "ipython3",
   "version": "3.6.1"
  }
 },
 "nbformat": 4,
 "nbformat_minor": 2
}
